{
 "cells": [
  {
   "cell_type": "markdown",
   "metadata": {},
   "source": [
    "# Screen time & Steps: Is There a Relationship?\n",
    "### Macy Ryan's CPSC 222, Fall 2020 Data Science Project"
   ]
  },
  {
   "cell_type": "markdown",
   "metadata": {},
   "source": [
    "## Introduction\n",
    "\n",
    "In this project I will be looking at the realtionship between number of steps taken in a day & hours of screen time spent on my smart phone. \n",
    "\n",
    "#### The Domain\n",
    "\n",
    "The domain I will be working with in this projects is both a fitness domain and a technology domain. These domains are important to me because I think they both directly affect my wellbeing. I am constantly surronded by technology and know it effects different areas of my life. Furthermore, although I consider myslef a fairly active person, I want to see just how many steps I get everyday. I am researching the correspondence between number of steps taken in a day with the number of hours I am on my phone. \n",
    "\n",
    "#### The Dataset\n",
    "\n",
    "The data set that I will be using is one that I have manually put together over the past 2-3 months. While it began as just 3 attributes, Date, Steps, and Screen time, I since added Hours spent on Zoom, day of the week, and quarantine status, making it 6 total attributes."
   ]
  },
  {
   "cell_type": "code",
   "execution_count": 425,
   "metadata": {},
   "outputs": [
    {
     "name": "stdout",
     "output_type": "stream",
     "text": [
      "        Date  Steps  Screen Time (on phone) (hrs) Day of the week  \\\n",
      "0    9/18/20   4260                          5.00          Friday   \n",
      "1    9/19/20  10120                          5.00        Saturday   \n",
      "2    9/20/20   2901                          4.00          Sunday   \n",
      "3    9/21/20  11984                          3.50          Monday   \n",
      "4    9/22/20   1113                          4.00         Tuesday   \n",
      "..       ...    ...                           ...             ...   \n",
      "84  12/11/20    456                          5.00          Friday   \n",
      "85  12/12/20    182                          1.15        Saturday   \n",
      "86  12/13/20    105                          0.95          Sunday   \n",
      "87  12/14/20   1060                          1.66          Monday   \n",
      "88  12/15/20   2639                          1.00         Tuesday   \n",
      "\n",
      "    Time Spent in Class (hrs) Quarantine Status  \n",
      "0                         3.0                 N  \n",
      "1                         0.0                 N  \n",
      "2                         0.0                 N  \n",
      "3                         3.0                 N  \n",
      "4                         1.5                 N  \n",
      "..                        ...               ...  \n",
      "84                        3.0                 Y  \n",
      "85                        0.0                 Y  \n",
      "86                        0.0                 Y  \n",
      "87                        0.0                 Y  \n",
      "88                        0.0               Nga  \n",
      "\n",
      "[89 rows x 6 columns]\n"
     ]
    }
   ],
   "source": [
    "import pandas as pd\n",
    "import numpy as np\n",
    "import utils \n",
    "\n",
    "# to begin our dataset analysis we must import the code \n",
    "personal_data = utils.read_file(\"personal_data.csv\") # read data from the csv file, set header to 0\n",
    "print(personal_data) # print out the raw data"
   ]
  },
  {
   "cell_type": "markdown",
   "metadata": {},
   "source": [
    "#### Hypothesis \n",
    "\n",
    "My hypothesis is that the number of steps I take per day will have a negative correlation to the number of hours spent on my phone; meaning as the number of steps increases the number of hours will decrease and vise versa. \n",
    "\n",
    "#### Classification Task \n",
    "\n",
    "Using the various attributes I am going to try to classify the number of step I would take on a given day. I belive that the prediction would depend heavily on the day of the week and the sceen time. I anicipate it being challanging to use the day of the week in this classification because it is not numerical.\n",
    "\n",
    "#### Findings\n",
    "\n",
    "Based on the test conducted in the following notebook and code cell, I can not conclude that there is a correlation between steps taken per day and screentime spent on phone. There are factors that effect the number of steps I take per day, like day of the week (weekends have a higher mean steps than week days) and my quarantine status have more effect on steps than screentime. "
   ]
  },
  {
   "cell_type": "markdown",
   "metadata": {},
   "source": [
    "## Data Analysis\n",
    "\n",
    "#### Details about the dataset \n",
    "\n",
    "The dataset I used in this project was manually compiled over 3 months. Using tracking functions on my phone I was able to know my steps per day and the screentime spent on my smartphone. In a csv file I then entered the date, day of the week, and number of hours in a class. Below is a brief overview of the statistics in the dataset to get an idea of the values I am working with. "
   ]
  },
  {
   "cell_type": "code",
   "execution_count": 411,
   "metadata": {},
   "outputs": [
    {
     "data": {
      "text/html": [
       "<div>\n",
       "<style scoped>\n",
       "    .dataframe tbody tr th:only-of-type {\n",
       "        vertical-align: middle;\n",
       "    }\n",
       "\n",
       "    .dataframe tbody tr th {\n",
       "        vertical-align: top;\n",
       "    }\n",
       "\n",
       "    .dataframe thead th {\n",
       "        text-align: right;\n",
       "    }\n",
       "</style>\n",
       "<table border=\"1\" class=\"dataframe\">\n",
       "  <thead>\n",
       "    <tr style=\"text-align: right;\">\n",
       "      <th></th>\n",
       "      <th>Steps</th>\n",
       "      <th>Screen Time (on phone) (hrs)</th>\n",
       "      <th>Time Spent in Class (hrs)</th>\n",
       "    </tr>\n",
       "  </thead>\n",
       "  <tbody>\n",
       "    <tr>\n",
       "      <th>count</th>\n",
       "      <td>89.000000</td>\n",
       "      <td>89.000000</td>\n",
       "      <td>89.000000</td>\n",
       "    </tr>\n",
       "    <tr>\n",
       "      <th>mean</th>\n",
       "      <td>4653.741573</td>\n",
       "      <td>3.665506</td>\n",
       "      <td>1.466292</td>\n",
       "    </tr>\n",
       "    <tr>\n",
       "      <th>std</th>\n",
       "      <td>3461.545397</td>\n",
       "      <td>1.359935</td>\n",
       "      <td>1.302964</td>\n",
       "    </tr>\n",
       "    <tr>\n",
       "      <th>min</th>\n",
       "      <td>69.000000</td>\n",
       "      <td>0.950000</td>\n",
       "      <td>0.000000</td>\n",
       "    </tr>\n",
       "    <tr>\n",
       "      <th>25%</th>\n",
       "      <td>2309.000000</td>\n",
       "      <td>2.710000</td>\n",
       "      <td>0.000000</td>\n",
       "    </tr>\n",
       "    <tr>\n",
       "      <th>50%</th>\n",
       "      <td>3723.000000</td>\n",
       "      <td>3.500000</td>\n",
       "      <td>1.500000</td>\n",
       "    </tr>\n",
       "    <tr>\n",
       "      <th>75%</th>\n",
       "      <td>6537.000000</td>\n",
       "      <td>4.500000</td>\n",
       "      <td>3.000000</td>\n",
       "    </tr>\n",
       "    <tr>\n",
       "      <th>max</th>\n",
       "      <td>14558.000000</td>\n",
       "      <td>7.400000</td>\n",
       "      <td>3.000000</td>\n",
       "    </tr>\n",
       "  </tbody>\n",
       "</table>\n",
       "</div>"
      ],
      "text/plain": [
       "              Steps  Screen Time (on phone) (hrs)  Time Spent in Class (hrs)\n",
       "count     89.000000                     89.000000                  89.000000\n",
       "mean    4653.741573                      3.665506                   1.466292\n",
       "std     3461.545397                      1.359935                   1.302964\n",
       "min       69.000000                      0.950000                   0.000000\n",
       "25%     2309.000000                      2.710000                   0.000000\n",
       "50%     3723.000000                      3.500000                   1.500000\n",
       "75%     6537.000000                      4.500000                   3.000000\n",
       "max    14558.000000                      7.400000                   3.000000"
      ]
     },
     "execution_count": 411,
     "metadata": {},
     "output_type": "execute_result"
    }
   ],
   "source": [
    "personal_data.describe()"
   ]
  },
  {
   "cell_type": "markdown",
   "metadata": {},
   "source": [
    "#### Data Prep \n",
    "\n",
    "Because I manually entered the data into the table, there is no data prep or cleaning that needs to done. Once I get to the correlation section, I transform a few of the columns to numerical in order to help me find r. \n",
    "\n",
    "#### Exploratory Data Analysis\n",
    "\n",
    "In order to explore this data and my hypothesis I am going to conduct a few different data aggregation techniques and also plot the data to visualize any correlations. In the following code cells I will explore the data and explain my findings along the way.  \n",
    "\n",
    "The first thing I was to do is print a line chart of steps and screentime with date on the x-axis."
   ]
  },
  {
   "cell_type": "code",
   "execution_count": 412,
   "metadata": {},
   "outputs": [
    {
     "data": {
      "image/png": "[encoded data removed]",
      "text/plain": [
       "<Figure size 432x288 with 2 Axes>"
      ]
     },
     "metadata": {
      "needs_background": "light"
     },
     "output_type": "display_data"
    }
   ],
   "source": [
    "import matplotlib.pyplot as plt\n",
    "\n",
    "fig, ax1 = plt.subplots() \n",
    "\n",
    "'''\n",
    "Here I am plotting the data on a line chart using two seperate y-axis\n",
    "on one axis will be Steps, on the other Screentime, and the X-axis remains \n",
    "constant with Date.  \n",
    "'''\n",
    "color = 'tab:blue' # set color \n",
    "x = personal_data[\"Date\"] # x-axis has date\n",
    "y1 = personal_data[\"Steps\"] # y-axis 1 has steps\n",
    "y2 = personal_data[\"Screen Time (on phone) (hrs)\"] # y-axis 2 has screentime\n",
    "ax1.plot(x, y1) # plot the x an y axis\n",
    "ax1.set_xlabel(\"Date\") # set label\n",
    "ax1.set_ylabel(\"Steps\", color=color) # set label and color \n",
    "ax1.tick_params(axis='y', labelcolor=color) # set label color\n",
    "ax1.tick_params(axis='x', rotation=90) # rotate the label on the x-axis\n",
    "\n",
    "ax2 = ax1.twinx() # create a second chart that mirrors the first \n",
    "\n",
    "color = 'tab:red' # set color \n",
    "ax2.plot(x, y2, color=color) # plot the screen time \n",
    "ax2.set_ylabel(\"Screen Time\", color=color) # set the label and color \n",
    "ax2.tick_params(axis='y', labelcolor=color) # set color\n",
    "\n",
    "plt.title(\"Steps & Screentime Over time\") # Set title\n",
    "plt.savefig(\"LineGraph.pdf\")\n",
    "plt.show() # show the plot "
   ]
  },
  {
   "cell_type": "markdown",
   "metadata": {},
   "source": [
    "##### Line Graph Analysis\n",
    "\n",
    "Looking at this line graph we can begin to see the corrilation between screen-time and number of steps taken each day. When the number of steps spikes we see the screen time dip and vise-versa. Using this we can assume that the number of hours spent looking at screen do impact the number of steps I took each day. However, this is not enough to fully come to that conclusion. My next step is looking at a few more charts and more testing. "
   ]
  },
  {
   "cell_type": "markdown",
   "metadata": {},
   "source": [
    "Now I want to use a bar chart to find on which days of the week I had the most screen time and which days of the week I had the most steps. "
   ]
  },
  {
   "cell_type": "code",
   "execution_count": 423,
   "metadata": {},
   "outputs": [
    {
     "data": {
      "image/png": "[encoded data removed]",
      "text/plain": [
       "<Figure size 432x288 with 1 Axes>"
      ]
     },
     "metadata": {
      "needs_background": "light"
     },
     "output_type": "display_data"
    },
    {
     "data": {
      "image/png": "[encoded data removed]",
      "text/plain": [
       "<Figure size 432x288 with 1 Axes>"
      ]
     },
     "metadata": {
      "needs_background": "light"
     },
     "output_type": "display_data"
    }
   ],
   "source": [
    "grouped_by_days = personal_data.groupby(\"Day of the week\") # group the data by day of the week \n",
    "for group_name, group_df in grouped_by_days:\n",
    "    if(group_name == \"Monday\"): # if the group name is Monday \n",
    "        mon_st_ser = group_df[\"Screen Time (on phone) (hrs)\"] # create a series of Screen time on Mondays \n",
    "        mon_steps_ser = group_df[\"Steps\"] # create a series of Steps on Mondays\n",
    "    elif(group_name == \"Tuesday\"): \n",
    "        tue_st_ser = group_df[\"Screen Time (on phone) (hrs)\"] # create a series of Screen time on Tuesdays\n",
    "        tue_steps_ser = group_df[\"Steps\"] # create a series of Steps on Tuesdays\n",
    "    elif(group_name == \"Wednesday\"): \n",
    "        wed_st_ser = group_df[\"Screen Time (on phone) (hrs)\"] # create a series of Screen time on Wednesdays\n",
    "        wed_steps_ser = group_df[\"Steps\"] # create a series of Steps on Wednesdays\n",
    "    elif(group_name == \"Thursday\"): \n",
    "        thu_st_ser = group_df[\"Screen Time (on phone) (hrs)\"] # create a series of Screen time on Thursdays\n",
    "        thu_steps_ser = group_df[\"Steps\"] # create a series of Steps on Thursdays\n",
    "    elif(group_name == \"Friday\"): \n",
    "        fri_st_ser = group_df[\"Screen Time (on phone) (hrs)\"] # create a series of Screen time on Fridays\n",
    "        fri_steps_ser = group_df[\"Steps\"] # create a series of Steps on Fridays\n",
    "    elif(group_name == \"Saturday\"): \n",
    "        sat_st_ser = group_df[\"Screen Time (on phone) (hrs)\"] # create a series of Screen time on Saturdays\n",
    "        sat_steps_ser = group_df[\"Steps\"] # create a series of Steps on Saturdays\n",
    "    elif(group_name == \"Sunday\"): \n",
    "        sun_st_ser = group_df[\"Screen Time (on phone) (hrs)\"] # create a series of Screen time on Sundays\n",
    "        sun_steps_ser = group_df[\"Steps\"] # create a series of Steps on Sundays\n",
    "\n",
    "# create a series of the weeks mean screentimes \n",
    "weekly_st_avg = [mon_st_ser.mean(), tue_st_ser.mean(), wed_st_ser.mean(), thu_st_ser.mean(), fri_st_ser.mean(), sat_st_ser.mean(), sun_st_ser.mean()]\n",
    "# create a series with the weeks mean steps \n",
    "weekly_step_avg = [mon_steps_ser.mean(), tue_steps_ser.mean(), wed_steps_ser.mean(), thu_steps_ser.mean(), fri_steps_ser.mean(), sat_steps_ser.mean(), sun_steps_ser.mean()]\n",
    "# create a series with the days of the week \n",
    "week_days = [\"Monday\", \"Tuesday\", \"Wednesday\", \"Thursday\", \"Friday\", \"Saturday\", \"Sunday\"]\n",
    "\n",
    "plt.figure() # clear the last plot \n",
    "plt.bar(week_days, weekly_st_avg) # on a bar chart plot the days of the week & weekly screentime avg\n",
    "plt.xlabel(\"Day of the Week\") # label the x-axis\n",
    "plt.ylabel(\"Screen time (hrs)\") # label the y-axis \n",
    "plt.title(\"Mean Screen time for Days of the Week\") # title the chart \n",
    "plt.tick_params(axis='x', rotation=45) # rotate the x-axis labels\n",
    "plt.savefig(\"DayVScreenTime.pdf\") # save graph\n",
    "plt.show() # show the chart \n",
    "\n",
    "plt.figure() # clear the previous chart \n",
    "plt.bar(week_days, weekly_step_avg) # plot the days of the week vs. weekly step avg\n",
    "plt.xlabel(\"Day of the Week\") # label the x-axis\n",
    "plt.ylabel(\"Steps\") # label the y-axis \n",
    "plt.title(\"Mean Steps for Days of the Week\") # title the chart \n",
    "plt.tick_params(axis='x', rotation=45) # rotate the x-axis labels \n",
    "plt.savefig(\"DayVSteps.pdf\") # save graph\n",
    "plt.show() # show the chart "
   ]
  },
  {
   "cell_type": "markdown",
   "metadata": {},
   "source": [
    "##### Bar Graph Analysis\n",
    "\n",
    "It is clear that on certain days I spend dramatically less time walking and some days I spend more time walking. Take Tuesday and Saturday, on Tuesday, on average, I spend between 3 and 3.5 hours on my phone and walked, on average, only 2000 steps a day. However on Saturdays, I averaged above 8000 steps and spents 4 hours on my phone, on average. Given this data it could be argued that there isn't much corrilation between steps and screen time.  \n",
    "\n",
    "Now I want to order the dataset by screen time from smallest to largest and then plot that with the corresponding steps and date. By doing this I hope to be able to see the negative correlation, as one goes up the other goes down. "
   ]
  },
  {
   "cell_type": "code",
   "execution_count": null,
   "metadata": {},
   "outputs": [],
   "source": [
    "df = personal_data # creating a copy of the dataset \n",
    "df = df.sort_values('Screen Time (on phone) (hrs)') # sorting by ascending value\n",
    "\n",
    "fig, ax1 = plt.subplots() \n",
    "\n",
    "color = 'tab:blue'\n",
    "x = df[\"Date\"] # x-axis has date\n",
    "y1 = df[\"Steps\"] # y-axis 1 has steps\n",
    "y2 = df[\"Screen Time (on phone) (hrs)\"] # y-axis 2 has screentime\n",
    "ax1.plot(x, y1) # plot the x an y axis\n",
    "ax1.set_xlabel(\"Date\") # set label\n",
    "ax1.set_ylabel(\"Steps\", color=color) # set label and color \n",
    "ax1.tick_params(axis='y', labelcolor=color) # set label color\n",
    "ax1.tick_params(axis='x', rotation=90) # rotate the label on the x-axis\n",
    "\n",
    "ax2 = ax1.twinx() # create a second chart that mirrors the first \n",
    "\n",
    "color = 'tab:red' # set color \n",
    "ax2.plot(x, y2, color=color) # plot the screen time \n",
    "ax2.set_ylabel(\"Screen Time\", color=color) # set the label and color \n",
    "ax2.tick_params(axis='y', labelcolor=color) # set color\n",
    "\n",
    "plt.title(\"Screentime from Min to Max & Corresponding steps\") # Set title\n",
    "plt.savefig(\"LineGraph2.pdf\") # save the graph \n",
    "plt.show() # show the plot "
   ]
  },
  {
   "cell_type": "markdown",
   "metadata": {},
   "source": [
    "##### Line Graph Analysis\n",
    "\n",
    "I was hoping that by arranging the dataset in ascending order in terms of screentime, and by plotting it, we would see that as screentime increases, steps would decrease. However, once I plotted the data it is clear that there is very little correlation between steps and screentime. "
   ]
  },
  {
   "cell_type": "markdown",
   "metadata": {},
   "source": [
    "#### Hypothesis Testing \n",
    "\n",
    "The only thing we can truly conclude from the previous graphs is that they are not an adequate measure for testing whether or not there is a corrilation between steps and screen time. In order to really test whether or not there is a relationship between the two we need to conduct some hypothesis testing. I am going to do four seperate hypothesis tests. \n",
    "\n",
    "1. I want to test whether the mean screen time on days I walked more than 4000 steps is less than the mean screen time on days I walk less than 4000 steps. \n",
    "2. I want to test whether I get on average more steps on the weekdays or on weekends. \n",
    "3. I want to test whether I get less steps on days with more than 3 hrs in class. \n",
    "4. I want to test if the mean steps is more while not in quarantine than the mean steps in quarantine. \n",
    "*******\n",
    "**Hypothesis Test #1** I want to test whether the mean screen time on days I walked more than 4000 steps is less than the mean screen time on days I walk less than 4000 steps."
   ]
  },
  {
   "cell_type": "code",
   "execution_count": 351,
   "metadata": {},
   "outputs": [],
   "source": [
    "'''Here I am going to make a series of the screen time on days where \n",
    "I take more than 4000 steps per day and another series for when I take\n",
    "less than 4000 steps a day. Using these series I will be able to test whether\n",
    "the mean screen time is higher on days I walk less.'''\n",
    "steps_on_4000_plus = personal_data.loc[personal_data['Steps'] >= 4000] # Seperate the data by numer of steps\n",
    "st_on_4000_plus = steps_on_4000_plus[\"Screen Time (on phone) (hrs)\"] # create series of screen time\n",
    "steps_on_4000_less = personal_data.loc[personal_data['Steps'] < 4000] # Seperate the data by numer of steps\n",
    "st_on_4000_less = steps_on_4000_less[\"Screen Time (on phone) (hrs)\"] # create series of screen time"
   ]
  },
  {
   "cell_type": "markdown",
   "metadata": {},
   "source": [
    "##### **Select the Null and Alternative Hypothesis**\n",
    "\n",
    "$$H_0: \\mu_1 > \\mu_2$$\n",
    "\n",
    "$$H_1: \\mu_1 \\leq \\mu_2$$  \n",
    "\n",
    "*1: Screen time on days with more than 4000 steps*  \n",
    "*2: Screen time on days with less than 4000 steps*\n",
    "\n",
    "We will reject $H_0$ if the mean screen time on days with 4000+ steps is less than the mean screen time on days with 4000- steps. \n",
    "\n",
    "##### **Select the Level of Significance**\n",
    "\n",
    "The level of significance I will be using is 0.05. \n",
    "\n",
    "$$\\alpha = 0.05$$\n",
    "\n",
    "##### **Find the appropriate test statistic** \n",
    "\n",
    "The test statistic will help us decide whether to accept or reject $H_0$. The formula used to find the test statistic is:  $$t = \\frac{\\overline{X_1}-\\overline{X_2}}{\\sqrt{{S_p}^2(\\frac{1}{n_1}+\\frac{1}{n_2})}}$$  \n",
    "\n",
    "##### **Formulate the Decision Rule**\n",
    "\n",
    "Reject $H_0$ if t is $> 1.671$\n",
    "\n",
    "##### **Calculate**\n",
    "\n",
    "Below we will calculate t. "
   ]
  },
  {
   "cell_type": "code",
   "execution_count": 315,
   "metadata": {},
   "outputs": [
    {
     "name": "stdout",
     "output_type": "stream",
     "text": [
      "0.6784703775198262 0.2496371202134191\n"
     ]
    }
   ],
   "source": [
    "import scipy.stats as stats \n",
    "\n",
    "t_computed, p_val = stats.ttest_ind(st_on_4000_plus, st_on_4000_less)\n",
    "print(t_computed, p_val / 2)  "
   ]
  },
  {
   "cell_type": "markdown",
   "metadata": {},
   "source": [
    "##### **Conclusion**\n",
    "\n",
    "Because t computed was 0.6784, which is less than 1.671, we will reject $H_0$. I can conclude that the mean sceentime on days with more than 4000 steps is NOT less than the mean screentime on days with less than 4000 steps. \n",
    "*****"
   ]
  },
  {
   "cell_type": "markdown",
   "metadata": {},
   "source": [
    "**Hypothesis Test #2:** I want to test whether I get on average more steps on the weekdays or on weekends. "
   ]
  },
  {
   "cell_type": "code",
   "execution_count": 316,
   "metadata": {},
   "outputs": [],
   "source": [
    "'''Here I am seperating the data by day of the week and creating two seperate datasets. One\n",
    "of the datasets has all of the data from Monday-Friday, and the other is all of the data \n",
    "from Saturday and Sunday'''\n",
    "weekdays_df = personal_data.loc[personal_data['Day of the week'] == \"Monday\"]\n",
    "weekdays_df = weekdays_df.append(personal_data.loc[personal_data['Day of the week'] == \"Tuesday\"])\n",
    "weekdays_df = weekdays_df.append(personal_data.loc[personal_data['Day of the week'] == \"Wednesday\"])\n",
    "weekdays_df = weekdays_df.append(personal_data.loc[personal_data['Day of the week'] == \"Thursday\"])\n",
    "weekdays_df = weekdays_df.append(personal_data.loc[personal_data['Day of the week'] == \"Friday\"])\n",
    "weekends_df = personal_data.loc[personal_data['Day of the week'] == \"Saturday\"]\n",
    "weekends_df = weekends_df.append(personal_data.loc[personal_data['Day of the week'] == \"Sunday\"])\n",
    "\n",
    "weekday_steps = weekdays_df[\"Steps\"] # create a series with just the number of steps taken on weekdays\n",
    "weekend_steps = weekends_df[\"Steps\"] # creat a series with just the number of steps taken on weekends "
   ]
  },
  {
   "cell_type": "markdown",
   "metadata": {},
   "source": [
    "##### **Select the Null and Alternative Hypothesis**\n",
    "\n",
    "$$H_0: \\mu_1 > \\mu_2$$\n",
    "\n",
    "$$H_1: \\mu_1 \\leq \\mu_2$$  \n",
    "\n",
    "*1: Weekday steps*  \n",
    "*2: Weekend steps*\n",
    "\n",
    "We will reject $H_0$ if the mean steps on weekdays is less than the mean steps on weekends. \n",
    "\n",
    "##### **Select the Level of Significance**\n",
    "\n",
    "The level of significance I will be using is 0.05. \n",
    "\n",
    "$$\\alpha = 0.05$$\n",
    "\n",
    "##### **Find the appropriate test statistic** \n",
    "\n",
    "The test statistic will help us decide whether to accept or reject $H_0$. The formula used to find the test statistic is:  $$t = \\frac{\\overline{X_1}-\\overline{X_2}}{\\sqrt{{S_p}^2(\\frac{1}{n_1}+\\frac{1}{n_2})}}$$  \n",
    "\n",
    "##### **Formulate the Decision Rule**\n",
    "\n",
    "Reject $H_0$ if t is $> 1.671$\n",
    "\n",
    "##### **Calculate**\n",
    "\n",
    "Below we will calculate t. "
   ]
  },
  {
   "cell_type": "code",
   "execution_count": 317,
   "metadata": {},
   "outputs": [
    {
     "name": "stdout",
     "output_type": "stream",
     "text": [
      "2.514755025968796 0.0068751014713008644\n"
     ]
    }
   ],
   "source": [
    "t_computed, p_val = stats.ttest_ind(weekend_steps, weekday_steps)\n",
    "print(t_computed, p_val / 2)  "
   ]
  },
  {
   "cell_type": "markdown",
   "metadata": {},
   "source": [
    "##### **Conclusion**\n",
    "\n",
    "Because t computed was 2.514, which is more than 1.671, we will reject $H_0$. I can conclude that the mean steps on weekdays is NOT more than the mean steps on weekends. Below we can clearly see that I took on average 2000 more steps on the weekend than on weekdays. "
   ]
  },
  {
   "cell_type": "code",
   "execution_count": 318,
   "metadata": {},
   "outputs": [
    {
     "name": "stdout",
     "output_type": "stream",
     "text": [
      "Weekday average steps: 4078.126984126984\n",
      "Weekend average steps: 6048.5\n"
     ]
    }
   ],
   "source": [
    "print(\"Weekday average steps:\", weekday_steps.mean())\n",
    "print(\"Weekend average steps:\", weekend_steps.mean())"
   ]
  },
  {
   "cell_type": "markdown",
   "metadata": {},
   "source": [
    "****\n",
    "**Hypothesis Test #3:** I want to test whether I get less steps on days with more than 3 hrs in class. "
   ]
  },
  {
   "cell_type": "code",
   "execution_count": 319,
   "metadata": {},
   "outputs": [],
   "source": [
    "heavy_class_days = personal_data.loc[personal_data['Time Spent in Class (hrs)'] >= 3]\n",
    "light_class_days = personal_data.loc[personal_data['Time Spent in Class (hrs)'] < 3]\n",
    "\n",
    "steps_heavy_class_days = heavy_class_days[\"Steps\"]\n",
    "steps_light_class_days = light_class_days[\"Steps\"]"
   ]
  },
  {
   "cell_type": "markdown",
   "metadata": {},
   "source": [
    "##### **Select the Null and Alternative Hypothesis**\n",
    "\n",
    "$$H_0: \\mu_1 > \\mu_2$$\n",
    "\n",
    "$$H_1: \\mu_1 \\leq \\mu_2$$  \n",
    "\n",
    "*1: Heavy Class days steps*  \n",
    "*2: Light Class days steps*\n",
    "\n",
    "We will reject $H_0$ if the mean steps on light class days is more than the mean steps on heavy class days. \n",
    "\n",
    "##### **Select the Level of Significance**\n",
    "\n",
    "The level of significance I will be using is 0.05. \n",
    "\n",
    "$$\\alpha = 0.05$$\n",
    "\n",
    "##### **Find the appropriate test statistic** \n",
    "\n",
    "The test statistic will help us decide whether to accept or reject $H_0$. The formula used to find the test statistic is:  $$t = \\frac{\\overline{X_1}-\\overline{X_2}}{\\sqrt{{S_p}^2(\\frac{1}{n_1}+\\frac{1}{n_2})}}$$  \n",
    "\n",
    "##### **Formulate the Decision Rule**\n",
    "\n",
    "Reject $H_0$ if t is $> 1.671$\n",
    "\n",
    "##### **Calculate**\n",
    "\n",
    "Below we will calculate t. "
   ]
  },
  {
   "cell_type": "code",
   "execution_count": 320,
   "metadata": {},
   "outputs": [
    {
     "name": "stdout",
     "output_type": "stream",
     "text": [
      "0.8439715667019034 0.20049998962081061\n"
     ]
    }
   ],
   "source": [
    "t_computed, p_val = stats.ttest_ind(steps_heavy_class_days, steps_light_class_days)\n",
    "print(t_computed, p_val / 2)  "
   ]
  },
  {
   "cell_type": "markdown",
   "metadata": {},
   "source": [
    "##### **Conclusion**\n",
    "\n",
    "Because t computed was 0.84397, which is less than 1.671, we will not reject $H_0$. I can conclude that the mean steps on days with heavy class time (> 3 hrs) is more than the mean steps on days with light class time (< 3 hrs).\n",
    "****"
   ]
  },
  {
   "cell_type": "markdown",
   "metadata": {},
   "source": [
    "**Hypothesis Test #4:** Is the mean number of steps greater while outside of quarantine or in quarantine? "
   ]
  },
  {
   "cell_type": "code",
   "execution_count": 321,
   "metadata": {},
   "outputs": [],
   "source": [
    "in_quarantine = personal_data.loc[personal_data['Quarantine Status'] == \"Y\"]\n",
    "out_quarantine = personal_data.loc[personal_data['Quarantine Status'] == \"N\"]\n",
    "\n",
    "in_quarantine_steps = in_quarantine[\"Steps\"]\n",
    "out_quarantine_steps = out_quarantine[\"Steps\"]"
   ]
  },
  {
   "cell_type": "markdown",
   "metadata": {},
   "source": [
    "##### **Select the Null and Alternative Hypothesis**\n",
    "\n",
    "$$H_0: \\mu_1 > \\mu_2$$\n",
    "\n",
    "$$H_1: \\mu_1 \\leq \\mu_2$$  \n",
    "\n",
    "*1: Out of quarantine steps*  \n",
    "*2: In quarantine steps*\n",
    "\n",
    "We will reject $H_0$ if the mean steps on quarantine days is more than the mean steps on out of quarantine days. \n",
    "\n",
    "##### **Select the Level of Significance**\n",
    "\n",
    "The level of significance I will be using is 0.05. \n",
    "\n",
    "$$\\alpha = 0.05$$\n",
    "\n",
    "##### **Find the appropriate test statistic** \n",
    "\n",
    "The test statistic will help us decide whether to accept or reject $H_0$. The formula used to find the test statistic is:  $$t = \\frac{\\overline{X_1}-\\overline{X_2}}{\\sqrt{{S_p}^2(\\frac{1}{n_1}+\\frac{1}{n_2})}}$$  \n",
    "\n",
    "##### **Formulate the Decision Rule**\n",
    "\n",
    "Reject $H_0$ if t is $> 1.671$\n",
    "\n",
    "##### **Calculate**\n",
    "\n",
    "Below we will calculate t. "
   ]
  },
  {
   "cell_type": "code",
   "execution_count": 322,
   "metadata": {},
   "outputs": [
    {
     "name": "stdout",
     "output_type": "stream",
     "text": [
      "-4.3697598555642525 1.730647697599168e-05\n"
     ]
    }
   ],
   "source": [
    "t_computed, p_val = stats.ttest_ind(in_quarantine_steps, out_quarantine_steps)\n",
    "print(t_computed, p_val / 2)  "
   ]
  },
  {
   "cell_type": "markdown",
   "metadata": {},
   "source": [
    "##### **Conclusion**\n",
    "\n",
    "Because t computed was -4.37, which is less than 1.671, we will not reject $H_0$. I can conclude that the mean steps on out of quarantine days is more than the mean steps on quarantine days. Below I will display the mean of each which will clearly show that this is true. "
   ]
  },
  {
   "cell_type": "code",
   "execution_count": 323,
   "metadata": {},
   "outputs": [
    {
     "name": "stdout",
     "output_type": "stream",
     "text": [
      "Mean Steps when not in quarantine: 5173.683544303797\n",
      "Mean Steps when in quarantine: 313.6666666666667\n"
     ]
    }
   ],
   "source": [
    "print(\"Mean Steps when not in quarantine:\", out_quarantine_steps.mean())\n",
    "print(\"Mean Steps when in quarantine:\", in_quarantine_steps.mean())"
   ]
  },
  {
   "cell_type": "markdown",
   "metadata": {},
   "source": [
    "### Finding Correlation (r)\n",
    "\n",
    "I want to find the correlation between certain attributes in the dataset. To do this I am foing to use the stats library. The closer r is to 0.0, the smaller the correlation, as r gets closer to 1.0 or -1.0, the stronger the correlation."
   ]
  },
  {
   "cell_type": "code",
   "execution_count": 324,
   "metadata": {},
   "outputs": [
    {
     "name": "stdout",
     "output_type": "stream",
     "text": [
      "r between steps & screentime: 0.0414317663598124\n"
     ]
    }
   ],
   "source": [
    "'''Finding the correlation between steps and screentime'''\n",
    "m, b, r, p_value, std_err = stats.linregress(personal_data[\"Steps\"], personal_data[\"Screen Time (on phone) (hrs)\"])\n",
    "print(\"r between steps & screentime:\", r)"
   ]
  },
  {
   "cell_type": "markdown",
   "metadata": {},
   "source": [
    "There is a very very small correlation between steps and screentime, not enough to conclude that they are related in anyway. "
   ]
  },
  {
   "cell_type": "code",
   "execution_count": 349,
   "metadata": {},
   "outputs": [
    {
     "name": "stdout",
     "output_type": "stream",
     "text": [
      "r between steps and quarantine status: -0.4299617289352839\n"
     ]
    }
   ],
   "source": [
    "'''Finding the correlation between steps and quarantine status'''\n",
    "from sklearn.preprocessing import LabelEncoder\n",
    "\n",
    "# Use a label encoder to transform the Quarantine status column to int \n",
    "le = LabelEncoder() \n",
    "personal_data['Quarantine Status'] = le.fit_transform(personal_data['Quarantine Status'])\n",
    "\n",
    "m, b, r, p_value, std_err = stats.linregress(personal_data[\"Steps\"], personal_data[\"Quarantine Status\"])\n",
    "print(\"r between steps and quarantine status:\", r)"
   ]
  },
  {
   "cell_type": "markdown",
   "metadata": {},
   "source": [
    "There is a moderate negative correlation between steps and quarantine status. "
   ]
  },
  {
   "cell_type": "code",
   "execution_count": 328,
   "metadata": {},
   "outputs": [
    {
     "name": "stdout",
     "output_type": "stream",
     "text": [
      "r between steps and quarantine status: -0.26672832082970493\n"
     ]
    }
   ],
   "source": [
    "'''Finding correlation between day of the week and steps'''\n",
    "le = LabelEncoder() \n",
    "day_of_the_week = personal_data['Day of the week'] # make a copy of the day of the week column \n",
    "day_of_the_week = le.fit_transform(day_of_the_week) # transform to int \n",
    "\n",
    "m, b, r, p_value, std_err = stats.linregress(personal_data[\"Steps\"], day_of_the_week)\n",
    "print(\"r between steps and day of the week:\", r)"
   ]
  },
  {
   "cell_type": "markdown",
   "metadata": {},
   "source": [
    "There is a slighly moderate negative correlation between steps and day of the week. "
   ]
  },
  {
   "cell_type": "markdown",
   "metadata": {},
   "source": [
    "## Classification \n",
    "\n",
    "For this part of the project, I am looking to predict the day of the week based on the atrributes steps, screentime, and time spent in class. To test this I am going to use two different classifiers, kNN hold out method and a decision tree classifier. \n",
    "\n",
    "#### kNN Classifier\n",
    "For the kNN hold out classifier I used a combination of test size equal to .25 and n neighbors equal to 3, which gave me the highest accuracy of .34. Other testing gave me the following results:  \n",
    "`test_size = .2, n_neighbors = 1, accuracy = .22`  \n",
    "`test_size = .2, n_neighbors = 2, accuracy = .27`  \n",
    "`test_size = .2, n_neighbors = 3, accuracy = .33`  \n",
    "`test_size = .3, n_neighbors = 1, accuracy = .30`  \n",
    "`test_size = .3, n_neighbors = 2, accuracy = .30`  \n",
    "`test_size = .3, n_neighbors = 3, accuracy = .11`  \n",
    "`test_size = .25, n_neighbors = 1, accuracy = .22`  \n",
    "`test_size = .25, n_neighbors = 2, accuracy = .26`  \n",
    "Unfortunatly, the classifier is only 34% accurate because the attributes used are not a good measure for day of the week. There is obviously a lack of correlation between steps, screentime, class hours, and day of the week. In order to test my classifier and have better predictions, I also used a decision tree classifier."
   ]
  },
  {
   "cell_type": "code",
   "execution_count": 346,
   "metadata": {},
   "outputs": [
    {
     "name": "stdout",
     "output_type": "stream",
     "text": [
      "['Friday' 'Saturday' 'Friday' 'Thursday' 'Friday' 'Saturday' 'Monday'\n",
      " 'Saturday' 'Wednesday' 'Friday' 'Sunday' 'Thursday' 'Sunday' 'Monday'\n",
      " 'Saturday' 'Friday' 'Friday' 'Saturday' 'Friday' 'Friday' 'Friday'\n",
      " 'Friday' 'Friday']\n",
      "0.34782608695652173\n"
     ]
    }
   ],
   "source": [
    "from sklearn.preprocessing import MinMaxScaler\n",
    "from sklearn.model_selection import train_test_split\n",
    "from sklearn import preprocessing\n",
    "from sklearn.tree import DecisionTreeClassifier\n",
    "from sklearn import tree\n",
    "from sklearn.neighbors import KNeighborsClassifier\n",
    "\n",
    "x_train = personal_data.drop([\"Day of the week\", \"Quarantine Status\", \"Date\"], axis=1) # drop unnecessary data\n",
    "y_train = personal_data[\"Day of the week\"] # column we are predicting\n",
    "\n",
    "# scale the instances so nothing is weighted more than others \n",
    "scaler = MinMaxScaler() \n",
    "scaler.fit(x_train)\n",
    "x_train_normalized = scaler.transform(x_train)\n",
    "\n",
    "# use random_state for reproducibility\n",
    "# use stratify to ensure a similar distribution of class labels in training and testing sets\n",
    "x_train, x_test, y_train, y_test = train_test_split(x_train, y_train, random_state=0, stratify=y_train, test_size=0.25)\n",
    "\n",
    "clf = KNeighborsClassifier(n_neighbors=3, metric=\"euclidean\")\n",
    "clf.fit(x_train, y_train)\n",
    "\n",
    "y_predicted = clf.predict(x_test) # predict the day of the week based on testing set \n",
    "print(y_predicted)\n",
    "\n",
    "accuracy = clf.score(x_test, y_test) # find the accuracy of the classifier\n",
    "print(accuracy)"
   ]
  },
  {
   "cell_type": "markdown",
   "metadata": {},
   "source": [
    "#### Decision Tree Classifier\n",
    "\n",
    "Using a decision tree classifier I was able to increase my accuracy to .5217, which is not great but better than the kNN classifier. To get this accuracy I tried using various max depths, testing the max depths gave me the following results: \n",
    "`max_depth = 1, accuracy = .26`  \n",
    "`max_depth = 2, accuracy = .26`  \n",
    "`max_depth = 4, accuracy = .43`  \n",
    "`max_depth = 5, accuracy = .52`  \n",
    "`max_depth = 6, accuracy = .43`  \n",
    "`no max_depth, accuracy = .39`  \n",
    "The final accuracy was 52.17%. For the same reasons as the kNN classifer, the accuracy can't get much better than that because the attributes are not highly correlated with one another. "
   ]
  },
  {
   "cell_type": "code",
   "execution_count": 347,
   "metadata": {},
   "outputs": [
    {
     "name": "stdout",
     "output_type": "stream",
     "text": [
      "['Friday' 'Saturday' 'Friday' 'Monday' 'Tuesday' 'Saturday' 'Sunday'\n",
      " 'Friday' 'Tuesday' 'Sunday' 'Sunday' 'Thursday' 'Tuesday' 'Thursday'\n",
      " 'Tuesday' 'Saturday' 'Monday' 'Sunday' 'Monday' 'Tuesday' 'Wednesday'\n",
      " 'Sunday' 'Sunday']\n",
      "0.5217391304347826\n"
     ]
    }
   ],
   "source": [
    "tree_clf = DecisionTreeClassifier(max_depth=3, random_state = 0) # create the decision tree \n",
    "tree_clf.fit(x_train, y_train)\n",
    "\n",
    "y_predicted = tree_clf.predict(x_test) # find the predictions according to the decision tree\n",
    "print(y_predicted)\n",
    "\n",
    "accuracy = tree_clf.score(x_test, y_test) # find the accuracy of the decision tree\n",
    "print(accuracy)"
   ]
  },
  {
   "cell_type": "code",
   "execution_count": 348,
   "metadata": {},
   "outputs": [
    {
     "data": {
      "image/png": "[encoded data removed]",
      "text/plain": [
       "<Figure size 432x288 with 1 Axes>"
      ]
     },
     "metadata": {
      "needs_background": "light"
     },
     "output_type": "display_data"
    }
   ],
   "source": [
    "fig = plt.figure() # creat a figure\n",
    "tree.plot_tree(tree_clf, feature_names=x_train.columns, filled=True) # plot the decision tree \n",
    "fig.savefig(\"decision_tree.pdf\") # save the decision tree to a file "
   ]
  },
  {
   "cell_type": "markdown",
   "metadata": {},
   "source": [
    "#### Results\n",
    "\n",
    "By evaluating two different methods for classifiers, I found that the decision tree gave me the most accurate results. By manipulating both classifiers I was able to improve both accuracy rates, however neither improved drastically with the best accuracy being 54.17% on the decision tree and 34.78% on the kNN classifier. "
   ]
  },
  {
   "cell_type": "markdown",
   "metadata": {},
   "source": [
    "## Conclusion\n",
    "\n",
    "When starting this project I was very interested to see if steps per day and screentime per day were effected by one another. I was almost certain that they would be, as most of the time that I spent on my phone I am sitting or laying down. However, at the end of this project I can conclude that my hypothesis was wrong and there isn't a strong enough correlation between steps and screen time to say that one effects the other. \n",
    "\n",
    "There may be other factors the effect steps, like day of the week and quarantine status, which both have moderate correlations to steps; however, I could not find any data that would strongly effect the number of steps I took in a day. In the future I might try testing weather which could have a stronger effect than any of the attributes I was testing. Furthermore, the data in of itself might not be the most accurate. Screentime does not include time I spend on my computer, which is significant as I do most of my school work and watch entertainment on my computer. On top of that, the steps count might now be entirely accurate because I do not always keep my phone on me at all times, throughout the duration of this project I tried my best to keep it with me but there were certainly time when I was walking around that I did not have it. In the future this project could be more accurate if I tracked screentime on my computer as well and wore a steps counting device like an apple watch or fitbit at all times. \n",
    "\n",
    "During the classification process I initially thought that the hold-out method would be the most accurate, but it because clear that the decision tree was better at predicting the day of the week. After testing different test sizes, number of neighbors, and max depths, I was able to improve upon the accuracy score but not significantly. I think that the classifiers could be improved if I was able to include the date in the classification instead of dropping it at the beginning. I also think the accuracy would improve if I improved the way I collected the data to begin with. \n",
    "\n",
    "When I initially began this project, it was difficult for me to think of who might be interested in the data. However, I think this data could be benificial for students because you can see how your habits might be effected by the time you spend on your smartphone or in class, especially now that classes are majority online. This data can also be harmful if companies, especially social media companies, can keep users attached to their phones or computers and spend less time getting the steps they need to lead a healthy lifestyle. \n"
   ]
  },
  {
   "cell_type": "markdown",
   "metadata": {},
   "source": [
    "#### Sources \n",
    "\n",
    "Sources used in this project are the following: \n",
    "* [Previous DA assignments](https://github.com/GonzagaCPSC222/DAs)\n",
    "* [Unit 6 Github](https://github.com/GonzagaCPSC222/U6-Machine-Learning)\n",
    "* [Unit 5 Github](https://github.com/GonzagaCPSC222/U5-Statistically-Analyzing-Data)"
   ]
  }
 ],
 "metadata": {
  "kernelspec": {
   "display_name": "Python 3",
   "language": "python",
   "name": "python3"
  },
  "language_info": {
   "codemirror_mode": {
    "name": "ipython",
    "version": 3
   },
   "file_extension": ".py",
   "mimetype": "text/x-python",
   "name": "python",
   "nbconvert_exporter": "python",
   "pygments_lexer": "ipython3",
   "version": "3.8.3"
  }
 },
 "nbformat": 4,
 "nbformat_minor": 4
}
