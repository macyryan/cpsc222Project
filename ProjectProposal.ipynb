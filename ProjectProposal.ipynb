{
 "cells": [
  {
   "cell_type": "markdown",
   "metadata": {},
   "source": [
    "# Steps & Screen Time: Is there a connection?\n",
    "## Introduction \n",
    "### A. Domain Introduction\n",
    "   a. The domain I will be working with in this projects is both a fitness domain and a technology domain.  \n",
    "    b. These domains are important to me because I think they both directly affect my wellbeing. I am constantly surronded by technology and know it effects different areas of my life. Furthermore, although I consider myslef a fairly active person, I want to see just how many steps I get everyday.  \n",
    "    c. I am researching the correspondence between number of steps taken in a day with the number of hours I am on my phone. \n",
    "### B. Hypothesis\n",
    "   a. My hypothesis is that the higher the hours of screentime, the lower my number of steps will be. I also believe that overtime I will be able to see a trend in the number of steps I get acording to the day of the week. My reasoning for this is because I have a weekly routine that doesnt change very often so I should be getting a relatively similar number of steps each Monday, Tuesday, etc.. \n",
    "    b. The impacts of the results would only effect myself. If I was aware that one day I may get less steps because I'm in class for longer or for another reason, I might compensate for that by walking extra the day before. \n",
    "    c. I believe I am the majority stakeholder invested in this data. However, it could also be useful to anyone who is interested. I can foresee people using this data to understand how screentime might effect our daily activity levels. Most of the time people spend on their phones they are either sitting or laying down, reducing their overall excersive per day. \n",
    "## Data Analysis\n",
    "### A. Dataset Description \n",
    "   a. There are two tables includes in this project. The first table has the date, # of steps, & hours on phone. The second table has the day of the week and the hours spent in class. The steps and screentime hours are both tracked on my smartphone, the date is entered manually. In the second table the day of the week and the number of hours spent in class are both entered manually.  \n",
    "    b. Both the tables are going to be formatted in a CSV file.  \n",
    "    c. Descriptions:  \n",
    "        - **Date**: the day of the year in which the data was taken  \n",
    "        - **Number of steps:** A number tracked by my phone of the number of steps I took that day.  \n",
    "        - **Hours of screentime:** My phone tracks the amount of time spent with it open and which apps.  \n",
    "        - **Day of the week:** This attribute despribes the day of the week that the data was collected  \n",
    "        - **Number of hours in class:** This attribute decribes the number of hours I spent in a lecture style classroom (either remote or in-person.) \n",
    "### B. Data Preparation\n",
    "a. There should be minimal amount of data cleaning because I am manually entering a lot of the data so I can make sure it is always entered in the same way. If there are missing values I will either be able to manually replace them or completely delete that instance of data.  \n",
    "b. I will merge the tables using merge.  \n",
    "c. I anticipate that I will need to convert the file that is currently tracking the data, into a csv file and I believe there might be some difficulty there.  \n",
    "### C. Exploratory Data Analysis \n",
    "a. I am going to use merge to combine the two tables, but I also want to use a split, apply, combine technique to look at the different days of the week and make tables based on that.  \n",
    "b. Using different charts such as line and bar chart will be helpful in visualizing the data overtime and seeing the relationship between hours of screentime and number of steps.  \n",
    "c. In order to test my hypothesis I want to be able to calculate the mean and standard deviation of steps and screen time on certain days of the week over time. Using this I will be able to see a trend over time and whether more amount of screen time also has less steps on average. \n",
    "### D. Classification \n",
    "a. I could try and predict the number of hours spend in class. The way I'll be able to do this is because based on the day of the week, that number should be consistent over the past few months (with a few exceptions) \n",
    "b. My hypothesis about this preditiction is that on Monday, Wednesday, and Friday my average hours in class will be 3hr and on Tuesday & Thursday it will be 1.5hr. \n",
    "c. There are some outliers because of days that I have missed class or it have been cancelled and those would effect the mean and thus predicting would be skewed. "
   ]
  }
 ],
 "metadata": {
  "kernelspec": {
   "display_name": "Python 3",
   "language": "python",
   "name": "python3"
  },
  "language_info": {
   "codemirror_mode": {
    "name": "ipython",
    "version": 3
   },
   "file_extension": ".py",
   "mimetype": "text/x-python",
   "name": "python",
   "nbconvert_exporter": "python",
   "pygments_lexer": "ipython3",
   "version": "3.8.3"
  }
 },
 "nbformat": 4,
 "nbformat_minor": 4
}
